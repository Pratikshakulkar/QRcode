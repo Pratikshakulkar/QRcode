{
  "cells": [
    {
      "cell_type": "code",
      "execution_count": 1,
      "metadata": {
        "colab": {
          "base_uri": "https://localhost:8080/"
        },
        "id": "zK3g0vFXU3_-",
        "outputId": "e9e1421b-9b63-489c-b338-74d33981732d"
      },
      "outputs": [
        {
          "output_type": "stream",
          "name": "stdout",
          "text": [
            "Collecting PyQRCode\n",
            "  Downloading PyQRCode-1.2.1.zip (41 kB)\n",
            "\u001b[2K     \u001b[90m━━━━━━━━━━━━━━━━━━━━━━━━━━━━━━━━━━━━━━━━\u001b[0m \u001b[32m41.9/41.9 kB\u001b[0m \u001b[31m720.0 kB/s\u001b[0m eta \u001b[36m0:00:00\u001b[0m\n",
            "\u001b[?25h  Preparing metadata (setup.py) ... \u001b[?25l\u001b[?25hdone\n",
            "Building wheels for collected packages: PyQRCode\n",
            "  Building wheel for PyQRCode (setup.py) ... \u001b[?25l\u001b[?25hdone\n",
            "  Created wheel for PyQRCode: filename=PyQRCode-1.2.1-py3-none-any.whl size=36223 sha256=6c14347bf6b838b692a4ebb1e74f5da13273bfc389d0de2009ca5ecb5cedda9f\n",
            "  Stored in directory: /root/.cache/pip/wheels/34/2d/20/082874e49a32cdcc87ebaf99dd0099fb7774ef30f010dfb6f2\n",
            "Successfully built PyQRCode\n",
            "Installing collected packages: PyQRCode\n",
            "Successfully installed PyQRCode-1.2.1\n"
          ]
        }
      ],
      "source": [
        "!pip install PyQRCode"
      ]
    },
    {
      "cell_type": "code",
      "execution_count": 2,
      "metadata": {
        "colab": {
          "base_uri": "https://localhost:8080/"
        },
        "id": "pwGnWe7GU9e3",
        "outputId": "19bcde8e-879d-40e5-eb9c-b5b890c2a0c4"
      },
      "outputs": [
        {
          "output_type": "stream",
          "name": "stdout",
          "text": [
            "Collecting pypng\n",
            "  Downloading pypng-0.20220715.0-py3-none-any.whl (58 kB)\n",
            "\u001b[?25l     \u001b[90m━━━━━━━━━━━━━━━━━━━━━━━━━━━━━━━━━━━━━━━━\u001b[0m \u001b[32m0.0/58.1 kB\u001b[0m \u001b[31m?\u001b[0m eta \u001b[36m-:--:--\u001b[0m\r\u001b[2K     \u001b[90m━━━━━━━━━━━━━━━━━━━━━━━━━━━━━━━━━━━━━━━━\u001b[0m \u001b[32m58.1/58.1 kB\u001b[0m \u001b[31m2.1 MB/s\u001b[0m eta \u001b[36m0:00:00\u001b[0m\n",
            "\u001b[?25hInstalling collected packages: pypng\n",
            "Successfully installed pypng-0.20220715.0\n"
          ]
        }
      ],
      "source": [
        "!pip install pypng"
      ]
    },
    {
      "cell_type": "code",
      "execution_count": 3,
      "metadata": {
        "id": "Pu9aUGsAVfZq"
      },
      "outputs": [],
      "source": [
        "import pyqrcode\n",
        "import png\n",
        "from matplotlib.pyplot import imshow\n",
        "%matplotlib inline\n",
        "link=\"https://gndecb.ac.in/\"\n",
        "qr_code = pyqrcode.create(link)\n",
        "qr_code.png(\"BITS.png\",scale=5)\n"
      ]
    },
    {
      "cell_type": "code",
      "execution_count": 4,
      "metadata": {
        "colab": {
          "base_uri": "https://localhost:8080/"
        },
        "id": "_zRCQcnzW6v7",
        "outputId": "c1c2b241-b004-419d-9315-0c8bd3a2fd1e"
      },
      "outputs": [
        {
          "output_type": "stream",
          "name": "stdout",
          "text": [
            "BITS.png  sample_data\n"
          ]
        }
      ],
      "source": [
        "!ls"
      ]
    },
    {
      "cell_type": "markdown",
      "source": [
        "# QR Code to google form-created"
      ],
      "metadata": {
        "id": "8eVGR4UbDWaU"
      }
    },
    {
      "cell_type": "code",
      "source": [
        "import pyqrcode\n",
        "import png\n",
        "from matplotlib.pyplot import imshow\n",
        "%matplotlib inline\n",
        "link = \"https://docs.google.com/forms/d/1-oww7gegeHevorKF7O4kQxm36yJdyhQQWyzxPUJLIvY/edit\"\n",
        "qr_code = pyqrcode.create(link)\n",
        "qr_code.png(\"Contact.png\",scale=5)"
      ],
      "metadata": {
        "id": "lLm80EmWDQpD"
      },
      "execution_count": 5,
      "outputs": []
    },
    {
      "cell_type": "code",
      "source": [
        "!ls"
      ],
      "metadata": {
        "colab": {
          "base_uri": "https://localhost:8080/"
        },
        "id": "b9AzfDF-Dcog",
        "outputId": "f3a9eaa5-bd3e-4f6e-8000-73a15bef9c3c"
      },
      "execution_count": 6,
      "outputs": [
        {
          "output_type": "stream",
          "name": "stdout",
          "text": [
            "BITS.png  Contact.png  sample_data\n"
          ]
        }
      ]
    },
    {
      "cell_type": "code",
      "source": [
        " #importing PIL\n",
        "from PIL import Image\n",
        "import matplotlib.pyplot as plt\n",
        "# read image\n",
        "img = Image.open('Contact.png')\n",
        "#output images\n",
        "imshow(img)"
      ],
      "metadata": {
        "colab": {
          "base_uri": "https://localhost:8080/",
          "height": 453
        },
        "id": "rFnK2VlBDhVP",
        "outputId": "db058ca1-7afc-423b-f052-c7c58abe29c8"
      },
      "execution_count": 7,
      "outputs": [
        {
          "output_type": "execute_result",
          "data": {
            "text/plain": [
              "<matplotlib.image.AxesImage at 0x7f17646be890>"
            ]
          },
          "metadata": {},
          "execution_count": 7
        },
        {
          "output_type": "display_data",
          "data": {
            "text/plain": [
              "<Figure size 640x480 with 1 Axes>"
            ],
            "image/png": "[encoded data removed]"
          },
          "metadata": {}
        }
      ]
    },
    {
      "cell_type": "code",
      "source": [],
      "metadata": {
        "id": "mVWurvfYDpSG"
      },
      "execution_count": 7,
      "outputs": []
    }
  ],
  "metadata": {
    "colab": {
      "provenance": []
    },
    "kernelspec": {
      "display_name": "Python 3",
      "name": "python3"
    },
    "language_info": {
      "name": "python"
    }
  },
  "nbformat": 4,
  "nbformat_minor": 0
}